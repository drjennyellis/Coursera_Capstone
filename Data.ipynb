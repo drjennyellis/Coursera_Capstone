{
 "cells": [
  {
   "cell_type": "markdown",
   "metadata": {},
   "source": [
    "# Hotel Recommendations Based on Popular Nearby Venues\n",
    "\n",
    "## Data\n",
    "\n",
    "### Data Sources\n",
    "To provide detailed hotel information to help travelers figure out where to stay in Toronto, Canada, the data is from hotels.com and foursquare. To obtain the price of one night in November (to ensure few were sold out) at Toronto hotels, I scraped hotels.com using selenium. To provide travelers with an estimate of hotel prices, I searched for hotels in Toronto for one night (Friday to Saturday) with 2 adults in mid November 2020 sorted by distance from city center. The three pieces of information scraped from hotels.com were hotel name, hotel address, and hotel price.\n",
    "\n",
    "There were several different types of foursquare data pulled using the API. One dataset used the first two words of the hotel names from the hotels.com data to search for these specific hotels in the foursquare data. This foursquare data provided the venue ID for each hotel in order to obtain venue details for each hotel. The combined data from hotels.com and foursquare provides hotel name and address, price information, ratings, latitude and longitude, and contact information. The other data from foursquare consisted of venues within a 500 meter radius around each hotel.\n",
    "\n",
    "### Data Cleaning\n",
    "Before data could be merged together, each dataset had to be cleaned. The hotel information scraped from hotels.com had price data as a string because it included text on how many rooms were left at a certain price. The price values were extracted from the price column and turned into an integer class. \n",
    "\n",
    "The first dataset from foursquare was reduced to include the columns: id, name, category name, location.address, location.lat, and location.lng. The variables that were dropped either had NaN values or were not relevant to goal of this project. To match the correct hotels from hotels.com with the foursquare, I used the location address to identify which foursquare data to merge with the hotels.com data to create a new dataset. \n",
    "\n",
    "The next dataset from foursquare involved getting the details for each hotel. The detailed information from foursquare allows me to provide travelers with the average venue rating and total number of likes as additional pieces of information to make an informed decision. The detailed information also includes the venue url and contact phone. This data was merged with the new merged data set to have a dataset with complete hotel information.\n",
    "\n",
    "The last dataset from foursquare involved getting the venues within a 500 meter radius around each hotel. Because this data also included hotels, hotels were removed from this dataset. The data were then transformed to a new dataset that showed the top 10 most common venues for each hotel. To do this transformation, each venue was dummy coded to get the mean frequency of each venue for each hotel. The mean frequency was then used to identify the top 10 most common venues for each hotel.\n",
    "\n"
   ]
  }
 ],
 "metadata": {
  "kernelspec": {
   "display_name": "Python 3.7.7 64-bit ('myenv': conda)",
   "language": "python",
   "name": "python37764bitmyenvconda4fe59519ab374fc1aed2cc5a9ec70341"
  },
  "language_info": {
   "codemirror_mode": {
    "name": "ipython",
    "version": 3
   },
   "file_extension": ".py",
   "mimetype": "text/x-python",
   "name": "python",
   "nbconvert_exporter": "python",
   "pygments_lexer": "ipython3",
   "version": "3.7.7"
  }
 },
 "nbformat": 4,
 "nbformat_minor": 4
}
