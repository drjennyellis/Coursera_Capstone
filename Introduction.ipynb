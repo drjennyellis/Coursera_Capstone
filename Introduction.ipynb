{
 "cells": [
  {
   "cell_type": "markdown",
   "metadata": {},
   "source": [
    "# Hotel Recommendations Based on Popular Nearby Venues\n",
    "\n",
    "## Introduction\n",
    "\n",
    "### Background\n",
    "Traveling can always incite stress, whether it is planning for the trip or while on the trip. One area people put a lot of thought into is what hotel to stay at when traveling to a new location. Whether traveling for business or pleasure, people may know they want to stay near a particular venue. Often, there are several hotels located nearby. Cost may be the primary reason people choose a hotel, but if there are several hotels in a particular location with similar prices, how does one choose so that they are likely happy where they stay?\n",
    "\n",
    "Everyone has different tastes and preferences. Often, the extent to which someone is happy where they stay is impacted by the surrounding area. Some people may prefer hotels with a variety of restaurants and shopping. Others may prefer a hotel that is near places with sights to see and things to do. \n",
    "\n",
    "### Problem and Audience\n",
    "The problem is that when searching for a place to stay, travelers can get good information on a hotel's price, ratings, and ammenities but know very little about the area surrounding the hotel. One of the worst experiences for a traveler is arriving at a hotel to discover there are no restaurants in walking distance and the traveler does not have a car! Travelers can look up each hotel they are interested in through Google and look at what's nearby. However, if a traveler has multiple hotels to choose from in different areas, it can be difficult to remember and manually track the nearby venues and which areas might be the best.\n",
    "\n",
    "The purpose of this project is to identify groups of hotels in the Toronto, Canada area based on the popular venues located nearby for would-be travelers to Toronto.\n"
   ]
  },
  {
   "cell_type": "code",
   "execution_count": null,
   "metadata": {},
   "outputs": [],
   "source": []
  }
 ],
 "metadata": {
  "kernelspec": {
   "display_name": "Python 3.7.7 64-bit ('myenv': conda)",
   "language": "python",
   "name": "python37764bitmyenvconda4fe59519ab374fc1aed2cc5a9ec70341"
  },
  "language_info": {
   "codemirror_mode": {
    "name": "ipython",
    "version": 3
   },
   "file_extension": ".py",
   "mimetype": "text/x-python",
   "name": "python",
   "nbconvert_exporter": "python",
   "pygments_lexer": "ipython3",
   "version": "3.7.7"
  }
 },
 "nbformat": 4,
 "nbformat_minor": 4
}
